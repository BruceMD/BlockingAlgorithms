{
  "nbformat": 4,
  "nbformat_minor": 0,
  "metadata": {
    "colab": {
      "name": "EM Algorithm Playing Around",
      "provenance": [],
      "collapsed_sections": [],
      "include_colab_link": true
    },
    "kernelspec": {
      "name": "python3",
      "display_name": "Python 3"
    },
    "language_info": {
      "name": "python"
    }
  },
  "cells": [
    {
      "cell_type": "markdown",
      "metadata": {
        "id": "view-in-github",
        "colab_type": "text"
      },
      "source": [
        "<a href=\"https://colab.research.google.com/github/BruceMD/BlockingAlgorithms/blob/main/EM_Algorithm_Playing_Around.ipynb\" target=\"_parent\"><img src=\"https://colab.research.google.com/assets/colab-badge.svg\" alt=\"Open In Colab\"/></a>"
      ]
    },
    {
      "cell_type": "code",
      "metadata": {
        "cellView": "form",
        "id": "jrcrb_4F2IRO"
      },
      "source": [
        "#@title Install ipympl\n",
        "\n",
        "!pip install ipympl"
      ],
      "execution_count": null,
      "outputs": []
    },
    {
      "cell_type": "code",
      "metadata": {
        "id": "pWm67kqi8FkW",
        "cellView": "form"
      },
      "source": [
        "#@title Import Libraries\n",
        "\n",
        "%matplotlib inline\n",
        "\n",
        "import scipy.stats as stats\n",
        "import matplotlib.pyplot as plt\n",
        "import numpy as np\n",
        "from ipywidgets import FloatSlider, VBox, interactive\n",
        "from random import randint\n",
        "from math import sqrt, pi, e, log10, log"
      ],
      "execution_count": 141,
      "outputs": []
    },
    {
      "cell_type": "code",
      "metadata": {
        "id": "xMrdXQ622VAI",
        "cellView": "form"
      },
      "source": [
        "#@title Basic Display of values\n",
        "\n",
        "x_points = [3, 6, 9, 10, 14, 15, 15.5, 16, 16.5, 17.5]\n",
        "y_points = [0 for _ in x_points]\n",
        "\n",
        "plt.plot(x_points, y_points, \"ro\")\n",
        "plt.show()\n"
      ],
      "execution_count": null,
      "outputs": []
    },
    {
      "cell_type": "code",
      "metadata": {
        "id": "UmghrnrvGdHA",
        "cellView": "form"
      },
      "source": [
        "#@title Interative Graph with two Guassian Distributions\n",
        "\n",
        "x_points = [3, 6, 9, 10, 14, 15, 15.5, 16, 16.5, 17.5]\n",
        "y_points = [0 for _ in x_points]\n",
        "\n",
        "\n",
        "def plot_graph(mu1, sigma1, mu2, sigma2):\n",
        "\n",
        "    x1 = np.linspace(mu1 - 3*sigma1, mu1 + 3*sigma1, 1000)\n",
        "    x2 = np.linspace(mu2 - 3*sigma2, mu2 + 3*sigma2, 1000)\n",
        "    \n",
        "    plt.plot(x1, stats.norm.pdf(x1, mu1, sigma1))\n",
        "    plt.plot(x2, stats.norm.pdf(x2, mu2, sigma2))\n",
        "\n",
        "    plt.plot(x_points, y_points, \"ro\")\n",
        "    plt.xlim(0, 20)\n",
        "\n",
        "    plt.show()\n",
        "\n",
        "\n",
        "interactive_plot = interactive(plot_graph, mu1=(0.0, 20.0, 0.1), sigma1=(0.0, 8.0, 0.1), mu2=(0.0, 20.0, 0.1), sigma2=(0.0, 8.0, 0.1))\n",
        "\n",
        "interactive_plot\n"
      ],
      "execution_count": null,
      "outputs": []
    },
    {
      "cell_type": "code",
      "metadata": {
        "id": "XFOq7F9ouSx-",
        "cellView": "form"
      },
      "source": [
        "#@title Guassian Functions\n",
        "\n",
        "def probs(x, mu, sigma):\n",
        "    return (1/(sqrt(2*pi*sigma**2))* e**(-(x - mu)**2/(2*sigma**2)))\n",
        "\n",
        "\n",
        "def p_dev(x_lis, mu, sigma):\n",
        "    p_lis = []\n",
        "    for num in x_lis:\n",
        "        p_lis.append(probs(num, mu, sigma))\n",
        "\n",
        "    return p_lis\n"
      ],
      "execution_count": null,
      "outputs": []
    },
    {
      "cell_type": "code",
      "metadata": {
        "id": "_up2Nnsln0ha",
        "cellView": "form"
      },
      "source": [
        "#@title Generate list of probabilities for each value x to belong to Gaussian distribution a and b\n",
        "\n",
        "xa_lis = p_dev(x_points, 3, 0.7)\n",
        "xb_lis = p_dev(x_points, 3.9, 0.7)\n",
        "\n",
        "print(xa_lis)\n",
        "print(xb_lis)\n",
        "\n",
        "plt.bar(x_points, [log10(y) for y in xa_lis])\n",
        "plt.bar(x_points, [log10(y) for y in xb_lis])\n",
        "plt.title(\"Log10 probability of each point belong to Gaussian Distribution a and b\")\n",
        "plt.show()"
      ],
      "execution_count": null,
      "outputs": []
    },
    {
      "cell_type": "code",
      "metadata": {
        "id": "XG_iMVi_uMht",
        "cellView": "form"
      },
      "source": [
        "#@title Showing probability of each point to belong to either Gaussian Distribution a or b\n",
        "\n",
        "def point_prob(x1, x2):\n",
        "    \n",
        "    # assuming priors are equal -> P(a) = P(b) = 0.5\n",
        "    # can recalculate priors later on\n",
        "    # no idea what priors are but whatevs, can figure it out later\n",
        "\n",
        "    return (x1*0.5) / (x1*0.5 + x2*0.5)\n",
        "\n",
        "\n",
        "a_lis = [point_prob(xa_lis[i], xb_lis[i]) for i in range(len(x_points))]\n",
        "b_lis = [point_prob(xb_lis[i], xa_lis[i]) for i in range(len(x_points))]\n",
        "\n",
        "print(a_lis)\n",
        "print(b_lis)\n",
        "\n",
        "plt.bar(x_points, a_lis)\n",
        "plt.bar(x_points, b_lis, bottom=a_lis)\n",
        "#plt.title(\"Log10 probability of each point belong to Gaussian Distribution a and b\")\n",
        "plt.show()"
      ],
      "execution_count": null,
      "outputs": []
    },
    {
      "cell_type": "code",
      "metadata": {
        "cellView": "form",
        "id": "uId_y8Oi26Lc"
      },
      "source": [
        "#@title Calculate new mu's and sigma's\n",
        "\n",
        "mu1 = sum([a_lis[i]*x_points[i] for i in range(len(x_points))]) / sum(a_lis)\n",
        "mu2 = sum([b_lis[i]*x_points[i] for i in range(len(x_points))]) / sum(b_lis)\n",
        "\n",
        "sigma1 = sqrt(sum([a_lis[i]*(x_points[i] - 3)**2 for i in range(len(x_points))]) / sum(a_lis))\n",
        "sigma2 = sqrt(sum([b_lis[i]*(x_points[i] - 3.9)**2 for i in range(len(x_points))]) / sum(b_lis))\n",
        "\n",
        "print(mu1, sigma1)\n",
        "print(mu2, sigma2)\n",
        "\n",
        "x1 = np.linspace(mu1 - 3*sigma1, mu1 + 3*sigma1, 1000)\n",
        "x2 = np.linspace(mu2 - 3*sigma2, mu2 + 3*sigma2, 1000)\n",
        "\n",
        "plt.plot(x1, stats.norm.pdf(x1, mu1, sigma1))\n",
        "plt.plot(x2, stats.norm.pdf(x2, mu2, sigma2))\n",
        "\n",
        "plt.plot(x_points, y_points, \"ro\")\n",
        "plt.xlim(0, 20)\n",
        "\n",
        "plt.show()"
      ],
      "execution_count": null,
      "outputs": []
    },
    {
      "cell_type": "markdown",
      "metadata": {
        "id": "nFnDM3Ys8BnV"
      },
      "source": [
        "This currently shows the first step towards the Expectation Maximisation algorithm, but it does not iterate down to the final values for mu and sigma.\n",
        "\n",
        "Let's optimise and recursively find the best values"
      ]
    },
    {
      "cell_type": "code",
      "metadata": {
        "id": "_a94lHu97_d_",
        "cellView": "form"
      },
      "source": [
        "#@title EM Algorithm Implementation\n",
        "\n",
        "x_points = [3, 6, 9, 10, 14, 15, 15.5, 16, 16.5, 17.5]\n",
        "\n",
        "def prob_x(x, mu, sigma):\n",
        "    return (1/(sqrt(2*pi*sigma**2))* e**(-(x - mu)**2/(2*sigma**2)))\n",
        "\n",
        "\n",
        "def prob_gaus(x, mu_1, sigma_1, mu_2, sigma_2, p1=0.5, p2=0.5):\n",
        "    return prob_x(x, mu_1, sigma_1)*p1 / prob_x(x, mu_1, sigma_1)*p1 + prob_x(x, mu_2, sigma_2)*p2\n",
        "\n",
        "\n",
        "def em_algorithm(mu_a, sigma_a, mu_b, sigma_b):\n",
        "    \n",
        "    new_mu_a = sum([(prob_gaus(x, mu_a, sigma_a, mu_b, sigma_b) * x) for x in range(len(x_points))]) / sum([prob_gaus(x, mu_a, sigma_a, mu_b, sigma_b) for x in x_points])\n",
        "\n",
        "    new_mu_b = sum([(prob_gaus(x, mu_b, sigma_b, mu_a, sigma_a) * x) for x in range(len(x_points))]) / sum([prob_gaus(x, mu_b, sigma_b, mu_a, sigma_a) for x in x_points])\n",
        "\n",
        "    new_sigma_a = sqrt(sum([prob_gaus(x, mu_a, sigma_a, mu_b, sigma_b) * (mu_a - x)**2 for x in x_points]) / sum([prob_gaus(x, mu_a, sigma_a, mu_b, sigma_b) for x in x_points]))\n",
        "\n",
        "    new_sigma_b = sqrt(sum([prob_gaus(x, mu_b, sigma_b, mu_a, sigma_a) * (mu_b - x)**2 for x in x_points]) / sum([prob_gaus(x, mu_b, sigma_b, mu_a, sigma_a) for x in x_points]))\n",
        "\n",
        "    print(new_mu_a, new_sigma_a)\n",
        "    print(new_mu_b, new_sigma_b)\n",
        "    print()\n",
        "\n",
        "    return new_mu_a, new_sigma_a, new_mu_b, new_sigma_b\n",
        "\n",
        "em_algorithm(3, 0.7, 3.9, 0.7)\n",
        "\n",
        "m1, s1, m2, s2 = 3, 0.7, 3.9, 0.7\n",
        "\n",
        "for _ in range(10):\n",
        "    plot_graph(m1, s1, m2, s2)\n",
        "    m1, s1, m2, s2 = em_algorithm(m1, s1, m2, s2)"
      ],
      "execution_count": null,
      "outputs": []
    },
    {
      "cell_type": "markdown",
      "metadata": {
        "id": "8HgLgPXg8Obm"
      },
      "source": [
        "At some point, it would be nice to demonstrate the 3D mapping of optimisation..."
      ]
    },
    {
      "cell_type": "code",
      "metadata": {
        "id": "TudOoU6G_Fis",
        "cellView": "form"
      },
      "source": [
        "#@title Incomplete Wireframe 3D Graph\n",
        "\n",
        "fig = plt.figure()\n",
        "ax = plt.axes(projection='3d')\n",
        "\n",
        "def f(x, y):\n",
        "    return np.sin(np.sqrt(x ** 2 + y ** 2))\n",
        "\n",
        "x = np.linspace(0, 6, 30)\n",
        "y = np.linspace(0, 6, 30)\n",
        "\n",
        "X, Y = np.meshgrid(x, y)\n",
        "Z = f(X, Y)\n",
        "\n",
        "ax.plot_wireframe(X, Y, Z, cmap='viridis')\n",
        "\n",
        "plt.title(\"Wireframe Plot Example\")\n",
        "plt.tight_layout()\n",
        "plt.show()"
      ],
      "execution_count": null,
      "outputs": []
    }
  ]
}